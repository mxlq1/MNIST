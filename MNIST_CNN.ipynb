{
  "nbformat": 4,
  "nbformat_minor": 0,
  "metadata": {
    "colab": {
      "provenance": [],
      "gpuType": "T4"
    },
    "kernelspec": {
      "name": "python3",
      "display_name": "Python 3"
    },
    "language_info": {
      "name": "python"
    },
    "accelerator": "GPU"
  },
  "cells": [
    {
      "cell_type": "markdown",
      "source": [
        "## Работа с данными"
      ],
      "metadata": {
        "id": "FWxjVqPzPZn1"
      }
    },
    {
      "cell_type": "code",
      "execution_count": null,
      "metadata": {
        "id": "p7oowSn7tyx3"
      },
      "outputs": [],
      "source": [
        "import math\n",
        "import os\n",
        "import random\n",
        "import sys\n",
        "\n",
        "import matplotlib.pyplot as plt\n",
        "import numpy as np\n",
        "import torch\n",
        "import torchvision\n",
        "import torchvision.transforms as transforms\n",
        "from PIL import Image\n",
        "from torch import nn\n",
        "from torch.nn import functional as F\n",
        "from torch.utils.data import DataLoader\n",
        "from torchvision.datasets import ImageFolder\n",
        "from tqdm import tqdm"
      ]
    },
    {
      "cell_type": "code",
      "source": [
        "device = torch.device('cuda' if torch.cuda.is_available() else 'cpu')"
      ],
      "metadata": {
        "id": "riFsdGQJyORt"
      },
      "execution_count": null,
      "outputs": []
    },
    {
      "cell_type": "code",
      "source": [
        "def seed_everything(seed):\n",
        "    # Фискирует максимум сидов.\n",
        "    # Это понадобится, чтобы сравнение оптимизаторов было корректным\n",
        "    random.seed(seed)\n",
        "    os.environ[\"PYTHONHASHSEED\"] = str(seed)\n",
        "    np.random.seed(seed)\n",
        "    torch.manual_seed(seed)\n",
        "    torch.cuda.manual_seed(seed)\n",
        "    torch.backends.cudnn.deterministic = True\n",
        "\n",
        "\n",
        "seed_everything(123456)"
      ],
      "metadata": {
        "id": "wOsCIh86vbrr"
      },
      "execution_count": null,
      "outputs": []
    },
    {
      "cell_type": "code",
      "source": [
        "import requests\n",
        "from io import BytesIO\n",
        "from zipfile import ZipFile\n",
        "\n",
        "# URL to the repository (modify this if the dataset is hosted in a specific location or file)\n",
        "DATASET_URL = 'https://github.com/DeepTrackAI/MNIST_dataset/raw/main/mnist.zip'\n",
        "\n",
        "response = requests.get(DATASET_URL)\n",
        "with ZipFile(BytesIO(response.content)) as z:\n",
        "    z.extractall()\n",
        "\n",
        "# Now you can load the dataset using your preferred library, e.g., deeplay, PyTorch, TensorFlow."
      ],
      "metadata": {
        "id": "LW-siyPUu7UD"
      },
      "execution_count": null,
      "outputs": []
    },
    {
      "cell_type": "code",
      "source": [
        "def move_dirs():\n",
        "  for i in range(10):\n",
        "    os.makedirs(f'/content/mnist_dataset/train/{i}')\n",
        "    os.makedirs(f'/content/mnist_dataset/test/{i}')\n",
        "\n",
        "  src = '/content/mnist'\n",
        "  dst = '/content/mnist_dataset'\n",
        "  for filename in os.listdir('/content/mnist/train'):\n",
        "    os.rename(\n",
        "        f'{src}/train/{filename}',\n",
        "        f'{dst}/train/{filename[0]}/{filename}'\n",
        "    )\n",
        "  for filename in os.listdir('/content/mnist/test'):\n",
        "    os.rename(\n",
        "        f'{src}/test/{filename}',\n",
        "        f'{dst}/test/{filename[0]}/{filename}'\n",
        "    )\n",
        "\n",
        "move_dirs()"
      ],
      "metadata": {
        "id": "tduxAlRyxtKM"
      },
      "execution_count": null,
      "outputs": []
    },
    {
      "cell_type": "code",
      "source": [
        "sm_train = 0\n",
        "sm_test = 0\n",
        "\n",
        "print(\"Train\")\n",
        "for i in range(10):\n",
        "  print(f\"{i}: {len(os.listdir(f'/content/mnist_dataset/train/{i}'))}\")\n",
        "  sm_train += len(os.listdir(f'/content/mnist_dataset/train/{i}'))\n",
        "print()\n",
        "\n",
        "print(\"Test\")\n",
        "for i in range(10):\n",
        "  print(f\"{i}: {len(os.listdir(f'/content/mnist_dataset/test/{i}'))}\")\n",
        "  sm_test += len(os.listdir(f'/content/mnist_dataset/test/{i}'))\n",
        "print()\n",
        "\n",
        "print(f'Train total: {sm_train}')\n",
        "print(f'Test total: {sm_test}')"
      ],
      "metadata": {
        "colab": {
          "base_uri": "https://localhost:8080/"
        },
        "id": "ipTDyt1F29y8",
        "outputId": "3b990992-273d-4d9d-dac2-01931f273c76"
      },
      "execution_count": null,
      "outputs": [
        {
          "output_type": "stream",
          "name": "stdout",
          "text": [
            "Train\n",
            "0: 5923\n",
            "1: 6742\n",
            "2: 5958\n",
            "3: 6131\n",
            "4: 5842\n",
            "5: 5421\n",
            "6: 5918\n",
            "7: 6265\n",
            "8: 5851\n",
            "9: 5949\n",
            "\n",
            "Test\n",
            "0: 980\n",
            "1: 1135\n",
            "2: 1032\n",
            "3: 1010\n",
            "4: 982\n",
            "5: 892\n",
            "6: 958\n",
            "7: 1028\n",
            "8: 974\n",
            "9: 1009\n",
            "\n",
            "Train total: 60000\n",
            "Test total: 10000\n"
          ]
        }
      ]
    },
    {
      "cell_type": "code",
      "source": [
        "transforms = transforms.Compose([\n",
        "    transforms.ToTensor(),\n",
        "    transforms.Normalize((0.1307, ), (0.3081, ))\n",
        "])\n",
        "\n",
        "train_dataset = ImageFolder('/content/mnist_dataset/train', transform=transforms)\n",
        "test_dataset = ImageFolder('/content/mnist_dataset/test', transform=transforms)"
      ],
      "metadata": {
        "id": "dPgxXlc6vCey"
      },
      "execution_count": null,
      "outputs": []
    },
    {
      "cell_type": "code",
      "source": [
        "plt.imshow(train_dataset[20000][0].permute(1, 2, 0));"
      ],
      "metadata": {
        "colab": {
          "base_uri": "https://localhost:8080/",
          "height": 447
        },
        "id": "D_KyU-4a5G4S",
        "outputId": "272ad000-d9af-4cf4-a8c3-e883d3dea274"
      },
      "execution_count": null,
      "outputs": [
        {
          "output_type": "stream",
          "name": "stderr",
          "text": [
            "WARNING:matplotlib.image:Clipping input data to the valid range for imshow with RGB data ([0..1] for floats or [0..255] for integers). Got range [-0.42421296..2.8214867].\n"
          ]
        },
        {
          "output_type": "display_data",
          "data": {
            "text/plain": [
              "<Figure size 640x480 with 1 Axes>"
            ],
            "image/png": "[encoded data removed]"
          },
          "metadata": {}
        }
      ]
    },
    {
      "cell_type": "code",
      "source": [
        "train_dataloader = DataLoader(train_dataset,  batch_size=64, shuffle=True)\n",
        "test_dataloader = DataLoader(test_dataset,  batch_size=64, shuffle=False)"
      ],
      "metadata": {
        "id": "H0i5YPnY6cqh"
      },
      "execution_count": null,
      "outputs": []
    },
    {
      "cell_type": "code",
      "source": [
        "for x_train, y_train in train_dataloader:\n",
        "  print(x_train.shape)\n",
        "  print(y_train.shape)\n",
        "  break"
      ],
      "metadata": {
        "colab": {
          "base_uri": "https://localhost:8080/"
        },
        "id": "bwz2vDMrLBsY",
        "outputId": "2e5f5272-6d84-42ac-b66f-531fcb2d45ed"
      },
      "execution_count": null,
      "outputs": [
        {
          "output_type": "stream",
          "name": "stdout",
          "text": [
            "torch.Size([64, 3, 28, 28])\n",
            "torch.Size([64])\n"
          ]
        }
      ]
    },
    {
      "cell_type": "markdown",
      "source": [
        "## Обучение сети"
      ],
      "metadata": {
        "id": "xpb_0bLVPeyP"
      }
    },
    {
      "cell_type": "code",
      "source": [
        "def train(model, optimizer, train_loader, test_loader, epochs=10, validate=True):\n",
        "\n",
        "  for epoch in range(epochs):\n",
        "      print(f\"Epoch {epoch}:\")\n",
        "      for x_train, y_train in tqdm(train_loader):\n",
        "          x_train = x_train.to(device)\n",
        "          y_train = y_train.to(device)\n",
        "\n",
        "          y_pred = model(x_train)\n",
        "          loss = F.cross_entropy(y_pred, y_train)\n",
        "          loss.backward()\n",
        "          optimizer.step()\n",
        "          optimizer.zero_grad()\n",
        "\n",
        "      if validate and epoch % 2 != 0:\n",
        "          with torch.no_grad():\n",
        "              epoch_loss = []\n",
        "              epoch_accuracy = []\n",
        "              for x_test, y_test in test_loader:\n",
        "                  x_test = x_test.to(device)\n",
        "                  y_test = y_test.to(device)\n",
        "\n",
        "                  y_pred = model(x_test)\n",
        "                  loss = F.cross_entropy(y_pred, y_test).cpu()\n",
        "                  accuracy = (y_pred.argmax(dim=1) == y_test).float().cpu().tolist()\n",
        "\n",
        "                  epoch_loss.append(loss)\n",
        "                  epoch_accuracy.extend(accuracy)\n",
        "\n",
        "          print(f\"Validation mean loss: {np.mean(epoch_loss)}\")\n",
        "          print(f\"Validation mean accuracy: {np.mean(epoch_accuracy)}\")\n",
        "          print(\"========================================\")"
      ],
      "metadata": {
        "id": "YEPAxYbcJq4z"
      },
      "execution_count": null,
      "outputs": []
    },
    {
      "cell_type": "code",
      "source": [
        "class ConvNN(nn.Module):\n",
        "    def __init__(self):\n",
        "        super().__init__()\n",
        "\n",
        "        self.conv_layer = nn.Sequential(\n",
        "            nn.Conv2d(3, 8, 3, padding=1),\n",
        "            nn.BatchNorm2d(8),\n",
        "            nn.ReLU(),\n",
        "\n",
        "            nn.Conv2d(8, 16, 3, padding=1),\n",
        "            nn.BatchNorm2d(16),\n",
        "            nn.ReLU(),\n",
        "\n",
        "            nn.MaxPool2d(2)\n",
        "        )\n",
        "\n",
        "        self.linear_layer = nn.Sequential(\n",
        "            nn.Linear(16 * 14 * 14, 2048),\n",
        "            nn.ReLU(),\n",
        "            nn.Linear(2048, 2048),\n",
        "            nn.ReLU(),\n",
        "            nn.Linear(2048, 10)\n",
        "        )\n",
        "\n",
        "    def forward(self, x):\n",
        "        x = self.conv_layer(x)\n",
        "        x = torch.flatten(x, 1)\n",
        "        x = self.linear_layer(x)\n",
        "\n",
        "        return x"
      ],
      "metadata": {
        "id": "WuQltJrzy6Hs"
      },
      "execution_count": null,
      "outputs": []
    },
    {
      "cell_type": "code",
      "source": [
        "model = ConvNN().to(device)\n",
        "optimizer = torch.optim.Adam(model.parameters(), lr=0.01)\n",
        "\n",
        "train(model, optimizer, train_dataloader, test_dataloader)"
      ],
      "metadata": {
        "colab": {
          "base_uri": "https://localhost:8080/"
        },
        "id": "EYs1eHTp2N1c",
        "outputId": "951ba7bb-974e-4380-c3a7-404b70ba7e13"
      },
      "execution_count": null,
      "outputs": [
        {
          "output_type": "stream",
          "name": "stdout",
          "text": [
            "Epoch 0:\n"
          ]
        },
        {
          "output_type": "stream",
          "name": "stderr",
          "text": [
            "100%|██████████| 938/938 [00:26<00:00, 35.25it/s]\n"
          ]
        },
        {
          "output_type": "stream",
          "name": "stdout",
          "text": [
            "Epoch 1:\n"
          ]
        },
        {
          "output_type": "stream",
          "name": "stderr",
          "text": [
            "100%|██████████| 938/938 [00:26<00:00, 35.29it/s]\n"
          ]
        },
        {
          "output_type": "stream",
          "name": "stdout",
          "text": [
            "Validation mean loss: 0.2662326693534851\n",
            "Validation mean accuracy: 0.9183\n",
            "========================================\n",
            "Epoch 2:\n"
          ]
        },
        {
          "output_type": "stream",
          "name": "stderr",
          "text": [
            "100%|██████████| 938/938 [00:26<00:00, 35.50it/s]\n"
          ]
        },
        {
          "output_type": "stream",
          "name": "stdout",
          "text": [
            "Epoch 3:\n"
          ]
        },
        {
          "output_type": "stream",
          "name": "stderr",
          "text": [
            "100%|██████████| 938/938 [00:26<00:00, 35.05it/s]\n"
          ]
        },
        {
          "output_type": "stream",
          "name": "stdout",
          "text": [
            "Validation mean loss: 0.25771909952163696\n",
            "Validation mean accuracy: 0.9258\n",
            "========================================\n",
            "Epoch 4:\n"
          ]
        },
        {
          "output_type": "stream",
          "name": "stderr",
          "text": [
            "100%|██████████| 938/938 [00:26<00:00, 35.65it/s]\n"
          ]
        },
        {
          "output_type": "stream",
          "name": "stdout",
          "text": [
            "Epoch 5:\n"
          ]
        },
        {
          "output_type": "stream",
          "name": "stderr",
          "text": [
            "100%|██████████| 938/938 [00:26<00:00, 35.37it/s]\n"
          ]
        },
        {
          "output_type": "stream",
          "name": "stdout",
          "text": [
            "Validation mean loss: 0.15236470103263855\n",
            "Validation mean accuracy: 0.9568\n",
            "========================================\n",
            "Epoch 6:\n"
          ]
        },
        {
          "output_type": "stream",
          "name": "stderr",
          "text": [
            "100%|██████████| 938/938 [00:26<00:00, 35.20it/s]\n"
          ]
        },
        {
          "output_type": "stream",
          "name": "stdout",
          "text": [
            "Epoch 7:\n"
          ]
        },
        {
          "output_type": "stream",
          "name": "stderr",
          "text": [
            "100%|██████████| 938/938 [00:26<00:00, 34.95it/s]\n"
          ]
        },
        {
          "output_type": "stream",
          "name": "stdout",
          "text": [
            "Validation mean loss: 0.14606472849845886\n",
            "Validation mean accuracy: 0.955\n",
            "========================================\n",
            "Epoch 8:\n"
          ]
        },
        {
          "output_type": "stream",
          "name": "stderr",
          "text": [
            "100%|██████████| 938/938 [00:26<00:00, 35.05it/s]\n"
          ]
        },
        {
          "output_type": "stream",
          "name": "stdout",
          "text": [
            "Epoch 9:\n"
          ]
        },
        {
          "output_type": "stream",
          "name": "stderr",
          "text": [
            "100%|██████████| 938/938 [00:27<00:00, 34.49it/s]\n"
          ]
        },
        {
          "output_type": "stream",
          "name": "stdout",
          "text": [
            "Validation mean loss: 0.1576022058725357\n",
            "Validation mean accuracy: 0.9607\n",
            "========================================\n"
          ]
        }
      ]
    },
    {
      "cell_type": "markdown",
      "source": [
        "## Играемся"
      ],
      "metadata": {
        "id": "GOXbN-XEPljP"
      }
    },
    {
      "cell_type": "code",
      "source": [
        "y_pred = torch.tensor([\n",
        "    [1.0, 0.0, 0.0, 0.0, 0.0, 0.0, 0.0, 0.0, 0.0, 0.0],\n",
        "    [0.0, 1.0, 0.0, 0.0, 0.0, 0.0, 0.0, 0.0, 0.0, 0.0],\n",
        "    [0.0, 0.0, 1.0, 0.0, 0.0, 0.0, 0.0, 0.0, 0.0, 0.0],\n",
        "    [0.0, 0.0, 0.0, 1.0, 0.0, 0.0, 0.0, 0.0, 0.0, 0.0],\n",
        "])\n",
        "\n",
        "y_test = torch.tensor([\n",
        "    0, 1, 2, 3\n",
        "])\n",
        "\n",
        "F.cross_entropy(y_pred, y_test)\n",
        "\n",
        "(y_pred.argmax(dim=1) == y_test).float().tolist()"
      ],
      "metadata": {
        "colab": {
          "base_uri": "https://localhost:8080/"
        },
        "id": "rhOYSx0tpd7n",
        "outputId": "891f34cd-6ff9-4d8d-f3b4-08ef534ee2d6"
      },
      "execution_count": null,
      "outputs": [
        {
          "output_type": "execute_result",
          "data": {
            "text/plain": [
              "[1.0, 1.0, 1.0, 1.0]"
            ]
          },
          "metadata": {},
          "execution_count": 36
        }
      ]
    },
    {
      "cell_type": "code",
      "source": [
        "a = torch.Tensor([[\n",
        "    [1, 2],\n",
        "    [3, 4]\n",
        "]])\n",
        "\n",
        "conv = nn.Conv2d(1, 1, 1)\n",
        "conv.weight"
      ],
      "metadata": {
        "colab": {
          "base_uri": "https://localhost:8080/"
        },
        "id": "i2pn1lTfPlLf",
        "outputId": "4df639f9-58cc-4276-c260-49dfea68043f"
      },
      "execution_count": null,
      "outputs": [
        {
          "output_type": "execute_result",
          "data": {
            "text/plain": [
              "Parameter containing:\n",
              "tensor([[[[-0.0177]]]], requires_grad=True)"
            ]
          },
          "metadata": {},
          "execution_count": 15
        }
      ]
    },
    {
      "cell_type": "code",
      "source": [
        "conv(a)"
      ],
      "metadata": {
        "id": "pDSvzH1-Prfo",
        "colab": {
          "base_uri": "https://localhost:8080/"
        },
        "outputId": "792a22e3-4900-42b4-8ea7-998922e2c3a9"
      },
      "execution_count": null,
      "outputs": [
        {
          "output_type": "execute_result",
          "data": {
            "text/plain": [
              "tensor([[[0.3300, 0.3122],\n",
              "         [0.2945, 0.2768]]], grad_fn=<SqueezeBackward1>)"
            ]
          },
          "metadata": {},
          "execution_count": 16
        }
      ]
    },
    {
      "cell_type": "code",
      "source": [
        "# Входная матрица 3x3 (формат: [batch_size, channels, height, width])\n",
        "input_tensor = torch.tensor([[[[1, 2, 3],\n",
        "                               [4, 5, 6],\n",
        "                               [7, 8, 9]]]], dtype=torch.float32)\n",
        "\n",
        "# Ядро свёртки 2x2 (фильтр)\n",
        "kernel = torch.tensor([[[[-1, 0],\n",
        "                         [0, 1]]]], dtype=torch.float32)\n",
        "\n",
        "# Создаём слой Conv2d вручную с заданными параметрами\n",
        "conv_layer = nn.Conv2d(\n",
        "    in_channels=1,      # 1 входной канал (т.к. чёрно-белое \"изображение\")\n",
        "    out_channels=1,      # 1 выходной канал\n",
        "    kernel_size=2,       # размер ядра 2x2\n",
        "    stride=1,            # шаг 1\n",
        "    padding=0,           # без дополнения нулями\n",
        "    bias=False           # отключаем смещение (bias), чтобы оставить только свёртку\n",
        ")\n",
        "\n",
        "# Вручную задаём веса фильтра (наше ядро)\n",
        "conv_layer.weight.data = kernel\n",
        "\n",
        "# Применяем свёртку\n",
        "output = conv_layer(input_tensor)\n",
        "\n",
        "print(\"Входная матрица:\\n\", input_tensor.squeeze())\n",
        "print(\"\\nЯдро свёртки:\\n\", kernel.squeeze())\n",
        "print(\"\\nРезультат свёртки:\\n\", output.squeeze())"
      ],
      "metadata": {
        "id": "lTopDb-JQZyK",
        "colab": {
          "base_uri": "https://localhost:8080/"
        },
        "outputId": "67565d7b-a51f-4afc-f87e-d3d5d9647c81"
      },
      "execution_count": null,
      "outputs": [
        {
          "output_type": "stream",
          "name": "stdout",
          "text": [
            "Входная матрица:\n",
            " tensor([[1., 2., 3.],\n",
            "        [4., 5., 6.],\n",
            "        [7., 8., 9.]])\n",
            "\n",
            "Ядро свёртки:\n",
            " tensor([[-1.,  0.],\n",
            "        [ 0.,  1.]])\n",
            "\n",
            "Результат свёртки:\n",
            " tensor([[4., 4.],\n",
            "        [4., 4.]], grad_fn=<SqueezeBackward0>)\n"
          ]
        }
      ]
    },
    {
      "cell_type": "code",
      "source": [
        "import torch\n",
        "import torch.nn as nn\n",
        "\n",
        "input_tensor = torch.tensor([[[[1, 2, 3],\n",
        "                              [4, 5, 6],\n",
        "                              [7, 8, 9]]]], dtype=torch.float32)\n",
        "\n",
        "conv_layer = nn.Conv2d(\n",
        "    in_channels=1,\n",
        "    out_channels=2,  # Теперь 2 выхода!\n",
        "    kernel_size=2,\n",
        "    stride=1,\n",
        "    padding=0,\n",
        "    bias=False\n",
        ")\n",
        "\n",
        "# Задаём два фильтра вручную\n",
        "conv_layer.weight.data = torch.tensor([\n",
        "    [[[-1, 0], [0, 1]]],  # K1\n",
        "    [[[1, 0], [0, -1]]]   # K2\n",
        "], dtype=torch.float32)\n",
        "\n",
        "output = conv_layer(input_tensor)\n",
        "print(\"Выход (2 канала):\\n\", output.squeeze())"
      ],
      "metadata": {
        "colab": {
          "base_uri": "https://localhost:8080/"
        },
        "id": "c-JBsfUpWsk5",
        "outputId": "a0760fb6-a9af-40db-f2ed-cdc3ed28be89"
      },
      "execution_count": null,
      "outputs": [
        {
          "output_type": "stream",
          "name": "stdout",
          "text": [
            "Выход (2 канала):\n",
            " tensor([[[ 4.,  4.],\n",
            "         [ 4.,  4.]],\n",
            "\n",
            "        [[-4., -4.],\n",
            "         [-4., -4.]]], grad_fn=<SqueezeBackward0>)\n"
          ]
        }
      ]
    }
  ]
}